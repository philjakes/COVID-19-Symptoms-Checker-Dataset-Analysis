{
 "cells": [
  {
   "cell_type": "code",
   "execution_count": 1,
   "id": "bottom-reputation",
   "metadata": {
    "_cell_guid": "b1076dfc-b9ad-4769-8c92-a6c4dae69d19",
    "_uuid": "8f2839f25d086af736a60e9eeb907d3b93b6e0e5",
    "execution": {
     "iopub.execute_input": "2021-06-21T14:57:16.428321Z",
     "iopub.status.busy": "2021-06-21T14:57:16.427623Z",
     "iopub.status.idle": "2021-06-21T14:57:17.577336Z",
     "shell.execute_reply": "2021-06-21T14:57:17.577980Z",
     "shell.execute_reply.started": "2021-06-19T02:40:57.343781Z"
    },
    "papermill": {
     "duration": 1.182993,
     "end_time": "2021-06-21T14:57:17.578359",
     "exception": false,
     "start_time": "2021-06-21T14:57:16.395366",
     "status": "completed"
    },
    "tags": []
   },
   "outputs": [],
   "source": [
    "import numpy as np # linear algebra\n",
    "import pandas as pd # data processing, CSV file I/O (e.g. pd.read_csv)\n",
    "import matplotlib.pyplot as plt\n",
    "import seaborn as sns\n",
    "from sklearn.model_selection import train_test_split\n",
    "sns.set(rc={'figure.figsize':(14,8)}, font_scale=.9)\n"
   ]
  },
  {
   "cell_type": "code",
   "execution_count": 2,
   "id": "continued-homework",
   "metadata": {
    "execution": {
     "iopub.execute_input": "2021-06-21T14:57:17.619496Z",
     "iopub.status.busy": "2021-06-21T14:57:17.618849Z",
     "iopub.status.idle": "2021-06-21T14:57:18.475356Z",
     "shell.execute_reply": "2021-06-21T14:57:18.474817Z",
     "shell.execute_reply.started": "2021-06-19T02:40:58.463235Z"
    },
    "papermill": {
     "duration": 0.877842,
     "end_time": "2021-06-21T14:57:18.475499",
     "exception": false,
     "start_time": "2021-06-21T14:57:17.597657",
     "status": "completed"
    },
    "tags": []
   },
   "outputs": [
    {
     "data": {
      "text/html": [
       "<div>\n",
       "<style scoped>\n",
       "    .dataframe tbody tr th:only-of-type {\n",
       "        vertical-align: middle;\n",
       "    }\n",
       "\n",
       "    .dataframe tbody tr th {\n",
       "        vertical-align: top;\n",
       "    }\n",
       "\n",
       "    .dataframe thead th {\n",
       "        text-align: right;\n",
       "    }\n",
       "</style>\n",
       "<table border=\"1\" class=\"dataframe\">\n",
       "  <thead>\n",
       "    <tr style=\"text-align: right;\">\n",
       "      <th></th>\n",
       "      <th>Fever</th>\n",
       "      <th>Tiredness</th>\n",
       "      <th>Dry-Cough</th>\n",
       "      <th>Difficulty-in-Breathing</th>\n",
       "      <th>Sore-Throat</th>\n",
       "      <th>None_Sympton</th>\n",
       "      <th>Pains</th>\n",
       "      <th>Nasal-Congestion</th>\n",
       "      <th>Runny-Nose</th>\n",
       "      <th>Diarrhea</th>\n",
       "      <th>...</th>\n",
       "      <th>Gender_Male</th>\n",
       "      <th>Gender_Transgender</th>\n",
       "      <th>Severity_Mild</th>\n",
       "      <th>Severity_Moderate</th>\n",
       "      <th>Severity_None</th>\n",
       "      <th>Severity_Severe</th>\n",
       "      <th>Contact_Dont-Know</th>\n",
       "      <th>Contact_No</th>\n",
       "      <th>Contact_Yes</th>\n",
       "      <th>Country</th>\n",
       "    </tr>\n",
       "  </thead>\n",
       "  <tbody>\n",
       "    <tr>\n",
       "      <th>0</th>\n",
       "      <td>1</td>\n",
       "      <td>1</td>\n",
       "      <td>1</td>\n",
       "      <td>1</td>\n",
       "      <td>1</td>\n",
       "      <td>0</td>\n",
       "      <td>1</td>\n",
       "      <td>1</td>\n",
       "      <td>1</td>\n",
       "      <td>1</td>\n",
       "      <td>...</td>\n",
       "      <td>1</td>\n",
       "      <td>0</td>\n",
       "      <td>1</td>\n",
       "      <td>0</td>\n",
       "      <td>0</td>\n",
       "      <td>0</td>\n",
       "      <td>0</td>\n",
       "      <td>0</td>\n",
       "      <td>1</td>\n",
       "      <td>China</td>\n",
       "    </tr>\n",
       "    <tr>\n",
       "      <th>1</th>\n",
       "      <td>1</td>\n",
       "      <td>1</td>\n",
       "      <td>1</td>\n",
       "      <td>1</td>\n",
       "      <td>1</td>\n",
       "      <td>0</td>\n",
       "      <td>1</td>\n",
       "      <td>1</td>\n",
       "      <td>1</td>\n",
       "      <td>1</td>\n",
       "      <td>...</td>\n",
       "      <td>1</td>\n",
       "      <td>0</td>\n",
       "      <td>1</td>\n",
       "      <td>0</td>\n",
       "      <td>0</td>\n",
       "      <td>0</td>\n",
       "      <td>0</td>\n",
       "      <td>1</td>\n",
       "      <td>0</td>\n",
       "      <td>China</td>\n",
       "    </tr>\n",
       "    <tr>\n",
       "      <th>2</th>\n",
       "      <td>1</td>\n",
       "      <td>1</td>\n",
       "      <td>1</td>\n",
       "      <td>1</td>\n",
       "      <td>1</td>\n",
       "      <td>0</td>\n",
       "      <td>1</td>\n",
       "      <td>1</td>\n",
       "      <td>1</td>\n",
       "      <td>1</td>\n",
       "      <td>...</td>\n",
       "      <td>1</td>\n",
       "      <td>0</td>\n",
       "      <td>1</td>\n",
       "      <td>0</td>\n",
       "      <td>0</td>\n",
       "      <td>0</td>\n",
       "      <td>1</td>\n",
       "      <td>0</td>\n",
       "      <td>0</td>\n",
       "      <td>China</td>\n",
       "    </tr>\n",
       "    <tr>\n",
       "      <th>3</th>\n",
       "      <td>1</td>\n",
       "      <td>1</td>\n",
       "      <td>1</td>\n",
       "      <td>1</td>\n",
       "      <td>1</td>\n",
       "      <td>0</td>\n",
       "      <td>1</td>\n",
       "      <td>1</td>\n",
       "      <td>1</td>\n",
       "      <td>1</td>\n",
       "      <td>...</td>\n",
       "      <td>1</td>\n",
       "      <td>0</td>\n",
       "      <td>0</td>\n",
       "      <td>1</td>\n",
       "      <td>0</td>\n",
       "      <td>0</td>\n",
       "      <td>0</td>\n",
       "      <td>0</td>\n",
       "      <td>1</td>\n",
       "      <td>China</td>\n",
       "    </tr>\n",
       "    <tr>\n",
       "      <th>4</th>\n",
       "      <td>1</td>\n",
       "      <td>1</td>\n",
       "      <td>1</td>\n",
       "      <td>1</td>\n",
       "      <td>1</td>\n",
       "      <td>0</td>\n",
       "      <td>1</td>\n",
       "      <td>1</td>\n",
       "      <td>1</td>\n",
       "      <td>1</td>\n",
       "      <td>...</td>\n",
       "      <td>1</td>\n",
       "      <td>0</td>\n",
       "      <td>0</td>\n",
       "      <td>1</td>\n",
       "      <td>0</td>\n",
       "      <td>0</td>\n",
       "      <td>0</td>\n",
       "      <td>1</td>\n",
       "      <td>0</td>\n",
       "      <td>China</td>\n",
       "    </tr>\n",
       "    <tr>\n",
       "      <th>...</th>\n",
       "      <td>...</td>\n",
       "      <td>...</td>\n",
       "      <td>...</td>\n",
       "      <td>...</td>\n",
       "      <td>...</td>\n",
       "      <td>...</td>\n",
       "      <td>...</td>\n",
       "      <td>...</td>\n",
       "      <td>...</td>\n",
       "      <td>...</td>\n",
       "      <td>...</td>\n",
       "      <td>...</td>\n",
       "      <td>...</td>\n",
       "      <td>...</td>\n",
       "      <td>...</td>\n",
       "      <td>...</td>\n",
       "      <td>...</td>\n",
       "      <td>...</td>\n",
       "      <td>...</td>\n",
       "      <td>...</td>\n",
       "      <td>...</td>\n",
       "    </tr>\n",
       "    <tr>\n",
       "      <th>316795</th>\n",
       "      <td>0</td>\n",
       "      <td>0</td>\n",
       "      <td>0</td>\n",
       "      <td>0</td>\n",
       "      <td>0</td>\n",
       "      <td>1</td>\n",
       "      <td>0</td>\n",
       "      <td>0</td>\n",
       "      <td>0</td>\n",
       "      <td>0</td>\n",
       "      <td>...</td>\n",
       "      <td>0</td>\n",
       "      <td>1</td>\n",
       "      <td>0</td>\n",
       "      <td>0</td>\n",
       "      <td>0</td>\n",
       "      <td>1</td>\n",
       "      <td>0</td>\n",
       "      <td>1</td>\n",
       "      <td>0</td>\n",
       "      <td>Other</td>\n",
       "    </tr>\n",
       "    <tr>\n",
       "      <th>316796</th>\n",
       "      <td>0</td>\n",
       "      <td>0</td>\n",
       "      <td>0</td>\n",
       "      <td>0</td>\n",
       "      <td>0</td>\n",
       "      <td>1</td>\n",
       "      <td>0</td>\n",
       "      <td>0</td>\n",
       "      <td>0</td>\n",
       "      <td>0</td>\n",
       "      <td>...</td>\n",
       "      <td>0</td>\n",
       "      <td>1</td>\n",
       "      <td>0</td>\n",
       "      <td>0</td>\n",
       "      <td>0</td>\n",
       "      <td>1</td>\n",
       "      <td>1</td>\n",
       "      <td>0</td>\n",
       "      <td>0</td>\n",
       "      <td>Other</td>\n",
       "    </tr>\n",
       "    <tr>\n",
       "      <th>316797</th>\n",
       "      <td>0</td>\n",
       "      <td>0</td>\n",
       "      <td>0</td>\n",
       "      <td>0</td>\n",
       "      <td>0</td>\n",
       "      <td>1</td>\n",
       "      <td>0</td>\n",
       "      <td>0</td>\n",
       "      <td>0</td>\n",
       "      <td>0</td>\n",
       "      <td>...</td>\n",
       "      <td>0</td>\n",
       "      <td>1</td>\n",
       "      <td>0</td>\n",
       "      <td>0</td>\n",
       "      <td>1</td>\n",
       "      <td>0</td>\n",
       "      <td>0</td>\n",
       "      <td>0</td>\n",
       "      <td>1</td>\n",
       "      <td>Other</td>\n",
       "    </tr>\n",
       "    <tr>\n",
       "      <th>316798</th>\n",
       "      <td>0</td>\n",
       "      <td>0</td>\n",
       "      <td>0</td>\n",
       "      <td>0</td>\n",
       "      <td>0</td>\n",
       "      <td>1</td>\n",
       "      <td>0</td>\n",
       "      <td>0</td>\n",
       "      <td>0</td>\n",
       "      <td>0</td>\n",
       "      <td>...</td>\n",
       "      <td>0</td>\n",
       "      <td>1</td>\n",
       "      <td>0</td>\n",
       "      <td>0</td>\n",
       "      <td>1</td>\n",
       "      <td>0</td>\n",
       "      <td>0</td>\n",
       "      <td>1</td>\n",
       "      <td>0</td>\n",
       "      <td>Other</td>\n",
       "    </tr>\n",
       "    <tr>\n",
       "      <th>316799</th>\n",
       "      <td>0</td>\n",
       "      <td>0</td>\n",
       "      <td>0</td>\n",
       "      <td>0</td>\n",
       "      <td>0</td>\n",
       "      <td>1</td>\n",
       "      <td>0</td>\n",
       "      <td>0</td>\n",
       "      <td>0</td>\n",
       "      <td>0</td>\n",
       "      <td>...</td>\n",
       "      <td>0</td>\n",
       "      <td>1</td>\n",
       "      <td>0</td>\n",
       "      <td>0</td>\n",
       "      <td>1</td>\n",
       "      <td>0</td>\n",
       "      <td>1</td>\n",
       "      <td>0</td>\n",
       "      <td>0</td>\n",
       "      <td>Other</td>\n",
       "    </tr>\n",
       "  </tbody>\n",
       "</table>\n",
       "<p>316800 rows × 27 columns</p>\n",
       "</div>"
      ],
      "text/plain": [
       "        Fever  Tiredness  Dry-Cough  Difficulty-in-Breathing  Sore-Throat  \\\n",
       "0           1          1          1                        1            1   \n",
       "1           1          1          1                        1            1   \n",
       "2           1          1          1                        1            1   \n",
       "3           1          1          1                        1            1   \n",
       "4           1          1          1                        1            1   \n",
       "...       ...        ...        ...                      ...          ...   \n",
       "316795      0          0          0                        0            0   \n",
       "316796      0          0          0                        0            0   \n",
       "316797      0          0          0                        0            0   \n",
       "316798      0          0          0                        0            0   \n",
       "316799      0          0          0                        0            0   \n",
       "\n",
       "        None_Sympton  Pains  Nasal-Congestion  Runny-Nose  Diarrhea  ...  \\\n",
       "0                  0      1                 1           1         1  ...   \n",
       "1                  0      1                 1           1         1  ...   \n",
       "2                  0      1                 1           1         1  ...   \n",
       "3                  0      1                 1           1         1  ...   \n",
       "4                  0      1                 1           1         1  ...   \n",
       "...              ...    ...               ...         ...       ...  ...   \n",
       "316795             1      0                 0           0         0  ...   \n",
       "316796             1      0                 0           0         0  ...   \n",
       "316797             1      0                 0           0         0  ...   \n",
       "316798             1      0                 0           0         0  ...   \n",
       "316799             1      0                 0           0         0  ...   \n",
       "\n",
       "        Gender_Male  Gender_Transgender  Severity_Mild  Severity_Moderate  \\\n",
       "0                 1                   0              1                  0   \n",
       "1                 1                   0              1                  0   \n",
       "2                 1                   0              1                  0   \n",
       "3                 1                   0              0                  1   \n",
       "4                 1                   0              0                  1   \n",
       "...             ...                 ...            ...                ...   \n",
       "316795            0                   1              0                  0   \n",
       "316796            0                   1              0                  0   \n",
       "316797            0                   1              0                  0   \n",
       "316798            0                   1              0                  0   \n",
       "316799            0                   1              0                  0   \n",
       "\n",
       "        Severity_None  Severity_Severe  Contact_Dont-Know  Contact_No  \\\n",
       "0                   0                0                  0           0   \n",
       "1                   0                0                  0           1   \n",
       "2                   0                0                  1           0   \n",
       "3                   0                0                  0           0   \n",
       "4                   0                0                  0           1   \n",
       "...               ...              ...                ...         ...   \n",
       "316795              0                1                  0           1   \n",
       "316796              0                1                  1           0   \n",
       "316797              1                0                  0           0   \n",
       "316798              1                0                  0           1   \n",
       "316799              1                0                  1           0   \n",
       "\n",
       "        Contact_Yes  Country  \n",
       "0                 1    China  \n",
       "1                 0    China  \n",
       "2                 0    China  \n",
       "3                 1    China  \n",
       "4                 0    China  \n",
       "...             ...      ...  \n",
       "316795            0    Other  \n",
       "316796            0    Other  \n",
       "316797            1    Other  \n",
       "316798            0    Other  \n",
       "316799            0    Other  \n",
       "\n",
       "[316800 rows x 27 columns]"
      ]
     },
     "metadata": {},
     "output_type": "display_data"
    }
   ],
   "source": [
    "df = pd.read_csv('/kaggle/input/covid19-symptoms-checker/Cleaned-Data.csv')\n",
    "display(df)"
   ]
  },
  {
   "cell_type": "code",
   "execution_count": 3,
   "id": "distributed-trauma",
   "metadata": {
    "execution": {
     "iopub.execute_input": "2021-06-21T14:57:18.546706Z",
     "iopub.status.busy": "2021-06-21T14:57:18.545804Z",
     "iopub.status.idle": "2021-06-21T14:57:18.553620Z",
     "shell.execute_reply": "2021-06-21T14:57:18.554119Z",
     "shell.execute_reply.started": "2021-06-19T02:52:35.505374Z"
    },
    "papermill": {
     "duration": 0.058303,
     "end_time": "2021-06-21T14:57:18.554314",
     "exception": false,
     "start_time": "2021-06-21T14:57:18.496011",
     "status": "completed"
    },
    "tags": []
   },
   "outputs": [
    {
     "data": {
      "text/html": [
       "<div>\n",
       "<style scoped>\n",
       "    .dataframe tbody tr th:only-of-type {\n",
       "        vertical-align: middle;\n",
       "    }\n",
       "\n",
       "    .dataframe tbody tr th {\n",
       "        vertical-align: top;\n",
       "    }\n",
       "\n",
       "    .dataframe thead th {\n",
       "        text-align: right;\n",
       "    }\n",
       "</style>\n",
       "<table border=\"1\" class=\"dataframe\">\n",
       "  <thead>\n",
       "    <tr style=\"text-align: right;\">\n",
       "      <th></th>\n",
       "      <th>Fever</th>\n",
       "      <th>Tiredness</th>\n",
       "      <th>Dry-Cough</th>\n",
       "      <th>Difficulty-in-Breathing</th>\n",
       "      <th>Sore-Throat</th>\n",
       "      <th>Pains</th>\n",
       "      <th>Nasal-Congestion</th>\n",
       "      <th>Runny-Nose</th>\n",
       "      <th>Diarrhea</th>\n",
       "      <th>Age_0-9</th>\n",
       "      <th>Age_10-19</th>\n",
       "      <th>Age_20-24</th>\n",
       "      <th>Age_25-59</th>\n",
       "      <th>Age_60+</th>\n",
       "      <th>Gender_Male</th>\n",
       "      <th>Gender_Female</th>\n",
       "      <th>Gender_Transgender</th>\n",
       "    </tr>\n",
       "  </thead>\n",
       "  <tbody>\n",
       "    <tr>\n",
       "      <th>0</th>\n",
       "      <td>1</td>\n",
       "      <td>1</td>\n",
       "      <td>1</td>\n",
       "      <td>1</td>\n",
       "      <td>1</td>\n",
       "      <td>1</td>\n",
       "      <td>1</td>\n",
       "      <td>1</td>\n",
       "      <td>1</td>\n",
       "      <td>1</td>\n",
       "      <td>0</td>\n",
       "      <td>0</td>\n",
       "      <td>0</td>\n",
       "      <td>0</td>\n",
       "      <td>1</td>\n",
       "      <td>0</td>\n",
       "      <td>0</td>\n",
       "    </tr>\n",
       "    <tr>\n",
       "      <th>1</th>\n",
       "      <td>1</td>\n",
       "      <td>1</td>\n",
       "      <td>1</td>\n",
       "      <td>1</td>\n",
       "      <td>1</td>\n",
       "      <td>1</td>\n",
       "      <td>1</td>\n",
       "      <td>1</td>\n",
       "      <td>1</td>\n",
       "      <td>1</td>\n",
       "      <td>0</td>\n",
       "      <td>0</td>\n",
       "      <td>0</td>\n",
       "      <td>0</td>\n",
       "      <td>1</td>\n",
       "      <td>0</td>\n",
       "      <td>0</td>\n",
       "    </tr>\n",
       "    <tr>\n",
       "      <th>2</th>\n",
       "      <td>1</td>\n",
       "      <td>1</td>\n",
       "      <td>1</td>\n",
       "      <td>1</td>\n",
       "      <td>1</td>\n",
       "      <td>1</td>\n",
       "      <td>1</td>\n",
       "      <td>1</td>\n",
       "      <td>1</td>\n",
       "      <td>1</td>\n",
       "      <td>0</td>\n",
       "      <td>0</td>\n",
       "      <td>0</td>\n",
       "      <td>0</td>\n",
       "      <td>1</td>\n",
       "      <td>0</td>\n",
       "      <td>0</td>\n",
       "    </tr>\n",
       "    <tr>\n",
       "      <th>3</th>\n",
       "      <td>1</td>\n",
       "      <td>1</td>\n",
       "      <td>1</td>\n",
       "      <td>1</td>\n",
       "      <td>1</td>\n",
       "      <td>1</td>\n",
       "      <td>1</td>\n",
       "      <td>1</td>\n",
       "      <td>1</td>\n",
       "      <td>1</td>\n",
       "      <td>0</td>\n",
       "      <td>0</td>\n",
       "      <td>0</td>\n",
       "      <td>0</td>\n",
       "      <td>1</td>\n",
       "      <td>0</td>\n",
       "      <td>0</td>\n",
       "    </tr>\n",
       "    <tr>\n",
       "      <th>4</th>\n",
       "      <td>1</td>\n",
       "      <td>1</td>\n",
       "      <td>1</td>\n",
       "      <td>1</td>\n",
       "      <td>1</td>\n",
       "      <td>1</td>\n",
       "      <td>1</td>\n",
       "      <td>1</td>\n",
       "      <td>1</td>\n",
       "      <td>1</td>\n",
       "      <td>0</td>\n",
       "      <td>0</td>\n",
       "      <td>0</td>\n",
       "      <td>0</td>\n",
       "      <td>1</td>\n",
       "      <td>0</td>\n",
       "      <td>0</td>\n",
       "    </tr>\n",
       "  </tbody>\n",
       "</table>\n",
       "</div>"
      ],
      "text/plain": [
       "   Fever  Tiredness  Dry-Cough  Difficulty-in-Breathing  Sore-Throat  Pains  \\\n",
       "0      1          1          1                        1            1      1   \n",
       "1      1          1          1                        1            1      1   \n",
       "2      1          1          1                        1            1      1   \n",
       "3      1          1          1                        1            1      1   \n",
       "4      1          1          1                        1            1      1   \n",
       "\n",
       "   Nasal-Congestion  Runny-Nose  Diarrhea  Age_0-9  Age_10-19  Age_20-24  \\\n",
       "0                 1           1         1        1          0          0   \n",
       "1                 1           1         1        1          0          0   \n",
       "2                 1           1         1        1          0          0   \n",
       "3                 1           1         1        1          0          0   \n",
       "4                 1           1         1        1          0          0   \n",
       "\n",
       "   Age_25-59  Age_60+  Gender_Male  Gender_Female  Gender_Transgender  \n",
       "0          0        0            1              0                   0  \n",
       "1          0        0            1              0                   0  \n",
       "2          0        0            1              0                   0  \n",
       "3          0        0            1              0                   0  \n",
       "4          0        0            1              0                   0  "
      ]
     },
     "metadata": {},
     "output_type": "display_data"
    },
    {
     "data": {
      "text/html": [
       "<div>\n",
       "<style scoped>\n",
       "    .dataframe tbody tr th:only-of-type {\n",
       "        vertical-align: middle;\n",
       "    }\n",
       "\n",
       "    .dataframe tbody tr th {\n",
       "        vertical-align: top;\n",
       "    }\n",
       "\n",
       "    .dataframe thead th {\n",
       "        text-align: right;\n",
       "    }\n",
       "</style>\n",
       "<table border=\"1\" class=\"dataframe\">\n",
       "  <thead>\n",
       "    <tr style=\"text-align: right;\">\n",
       "      <th></th>\n",
       "      <th>Severity_None</th>\n",
       "    </tr>\n",
       "  </thead>\n",
       "  <tbody>\n",
       "    <tr>\n",
       "      <th>0</th>\n",
       "      <td>0</td>\n",
       "    </tr>\n",
       "    <tr>\n",
       "      <th>1</th>\n",
       "      <td>0</td>\n",
       "    </tr>\n",
       "    <tr>\n",
       "      <th>2</th>\n",
       "      <td>0</td>\n",
       "    </tr>\n",
       "    <tr>\n",
       "      <th>3</th>\n",
       "      <td>0</td>\n",
       "    </tr>\n",
       "    <tr>\n",
       "      <th>4</th>\n",
       "      <td>0</td>\n",
       "    </tr>\n",
       "  </tbody>\n",
       "</table>\n",
       "</div>"
      ],
      "text/plain": [
       "   Severity_None\n",
       "0              0\n",
       "1              0\n",
       "2              0\n",
       "3              0\n",
       "4              0"
      ]
     },
     "metadata": {},
     "output_type": "display_data"
    }
   ],
   "source": [
    "indicators = ['Fever', 'Tiredness', 'Dry-Cough',  'Difficulty-in-Breathing', 'Sore-Throat', 'Pains', 'Nasal-Congestion',\n",
    "              'Runny-Nose', 'Diarrhea', 'Age_0-9', 'Age_10-19', 'Age_20-24', 'Age_25-59', 'Age_60+', 'Gender_Male',\n",
    "              'Gender_Female', 'Gender_Transgender']\n",
    "target_columns = ['Severity_None']\n",
    "indicators2 = ['Fever', 'Tiredness', 'Dry-Cough',  'Difficulty-in-Breathing', 'Sore-Throat', 'Pains', 'Nasal-Congestion',\n",
    "              'Runny-Nose', 'Diarrhea', 'Age_0-9', 'Age_10-19', 'Age_20-24', 'Age_25-59', 'Age_60+', 'Gender_Male',\n",
    "              'Gender_Female', 'Gender_Transgender', 'Severity_None']\n",
    "features = df[indicators]\n",
    "targets = df[target_columns]\n",
    "display(features.head(), targets.head())"
   ]
  },
  {
   "cell_type": "code",
   "execution_count": 4,
   "id": "instrumental-participant",
   "metadata": {
    "execution": {
     "iopub.execute_input": "2021-06-21T14:57:18.603618Z",
     "iopub.status.busy": "2021-06-21T14:57:18.602498Z",
     "iopub.status.idle": "2021-06-21T14:57:18.797868Z",
     "shell.execute_reply": "2021-06-21T14:57:18.798428Z",
     "shell.execute_reply.started": "2021-06-19T02:53:03.038571Z"
    },
    "papermill": {
     "duration": 0.223541,
     "end_time": "2021-06-21T14:57:18.798631",
     "exception": false,
     "start_time": "2021-06-21T14:57:18.575090",
     "status": "completed"
    },
    "tags": []
   },
   "outputs": [
    {
     "name": "stderr",
     "output_type": "stream",
     "text": [
      "/opt/conda/lib/python3.7/site-packages/seaborn/_decorators.py:43: FutureWarning: Pass the following variable as a keyword arg: x. From version 0.12, the only valid positional argument will be `data`, and passing other arguments without an explicit keyword will result in an error or misinterpretation.\n",
      "  FutureWarning\n"
     ]
    },
    {
     "data": {
      "image/png": "[encoded data removed]",
      "text/plain": [
       "<Figure size 864x576 with 1 Axes>"
      ]
     },
     "metadata": {},
     "output_type": "display_data"
    }
   ],
   "source": [
    "# condition = []\n",
    "# cond_dict = {\n",
    "#     0: \"Mild\",\n",
    "#     1: \"Moderate\",\n",
    "#     2: \"Severe\"\n",
    "# }\n",
    "# for i in targets.values:\n",
    "#     idx = np.where(i == 1)[0][0]\n",
    "#     condition.append(cond_dict[idx])\n",
    "# targets['Condition'] = condition\n",
    "sns.set(rc={'figure.figsize':(12,8)}, font_scale=.9)\n",
    "targets = targets.rename(columns={'Severity_None':'Non_Severe'})\n",
    "sns.countplot(targets['Non_Severe'])\n",
    "plt.title(\"Severity Data Distribution\")\n",
    "plt.show()\n",
    "sns.set(rc={'figure.figsize':(12,8)}, font_scale=.9)\n"
   ]
  },
  {
   "cell_type": "code",
   "execution_count": 5,
   "id": "parental-effect",
   "metadata": {
    "execution": {
     "iopub.execute_input": "2021-06-21T14:57:19.302669Z",
     "iopub.status.busy": "2021-06-21T14:57:19.301767Z",
     "iopub.status.idle": "2021-06-21T14:57:21.136161Z",
     "shell.execute_reply": "2021-06-21T14:57:21.135647Z",
     "shell.execute_reply.started": "2021-06-19T02:53:51.105189Z"
    },
    "papermill": {
     "duration": 2.315209,
     "end_time": "2021-06-21T14:57:21.136323",
     "exception": false,
     "start_time": "2021-06-21T14:57:18.821114",
     "status": "completed"
    },
    "tags": []
   },
   "outputs": [
    {
     "data": {
      "text/plain": [
       "<AxesSubplot:xlabel='Occurence_Count', ylabel='Indicator'>"
      ]
     },
     "execution_count": 5,
     "metadata": {},
     "output_type": "execute_result"
    },
    {
     "data": {
      "image/png": "[encoded data removed]",
      "text/plain": [
       "<Figure size 864x576 with 1 Axes>"
      ]
     },
     "metadata": {},
     "output_type": "display_data"
    }
   ],
   "source": [
    "temp = []\n",
    "for i in indicators:\n",
    "    temp.append(sum(features[i].values))\n",
    "temp_df = pd.DataFrame({\"Indicator\":indicators, \"Occurence_Count\":temp})\n",
    "sns.barplot(data = temp_df, y=\"Indicator\", x=\"Occurence_Count\")"
   ]
  },
  {
   "cell_type": "code",
   "execution_count": 6,
   "id": "seasonal-tooth",
   "metadata": {
    "execution": {
     "iopub.execute_input": "2021-06-21T14:57:21.213443Z",
     "iopub.status.busy": "2021-06-21T14:57:21.211978Z",
     "iopub.status.idle": "2021-06-21T14:57:21.404466Z",
     "shell.execute_reply": "2021-06-21T14:57:21.403915Z",
     "shell.execute_reply.started": "2021-06-19T02:53:53.419293Z"
    },
    "papermill": {
     "duration": 0.244456,
     "end_time": "2021-06-21T14:57:21.404600",
     "exception": false,
     "start_time": "2021-06-21T14:57:21.160144",
     "status": "completed"
    },
    "tags": []
   },
   "outputs": [
    {
     "data": {
      "image/png": "[encoded data removed]",
      "text/plain": [
       "<Figure size 864x576 with 1 Axes>"
      ]
     },
     "metadata": {},
     "output_type": "display_data"
    }
   ],
   "source": [
    "plt.pie(data=temp_df, x=\"Occurence_Count\", labels=temp_df[\"Indicator\"])\n",
    "plt.show()"
   ]
  },
  {
   "cell_type": "code",
   "execution_count": 7,
   "id": "environmental-intellectual",
   "metadata": {
    "execution": {
     "iopub.execute_input": "2021-06-21T14:57:21.479002Z",
     "iopub.status.busy": "2021-06-21T14:57:21.478383Z",
     "iopub.status.idle": "2021-06-21T14:57:31.245155Z",
     "shell.execute_reply": "2021-06-21T14:57:31.245898Z",
     "shell.execute_reply.started": "2021-06-19T02:56:51.642078Z"
    },
    "papermill": {
     "duration": 9.815532,
     "end_time": "2021-06-21T14:57:31.246137",
     "exception": false,
     "start_time": "2021-06-21T14:57:21.430605",
     "status": "completed"
    },
    "tags": []
   },
   "outputs": [
    {
     "name": "stderr",
     "output_type": "stream",
     "text": [
      "/opt/conda/lib/python3.7/site-packages/ipykernel_launcher.py:3: SettingWithCopyWarning: \n",
      "A value is trying to be set on a copy of a slice from a DataFrame.\n",
      "Try using .loc[row_indexer,col_indexer] = value instead\n",
      "\n",
      "See the caveats in the documentation: https://pandas.pydata.org/pandas-docs/stable/user_guide/indexing.html#returning-a-view-versus-a-copy\n",
      "  This is separate from the ipykernel package so we can avoid doing imports until\n",
      "/opt/conda/lib/python3.7/site-packages/ipykernel_launcher.py:5: SettingWithCopyWarning: \n",
      "A value is trying to be set on a copy of a slice from a DataFrame.\n",
      "Try using .loc[row_indexer,col_indexer] = value instead\n",
      "\n",
      "See the caveats in the documentation: https://pandas.pydata.org/pandas-docs/stable/user_guide/indexing.html#returning-a-view-versus-a-copy\n",
      "  \"\"\"\n"
     ]
    }
   ],
   "source": [
    "def get_symptom_count(the_list):\n",
    "    return sum(the_list.values)\n",
    "features['Total_Symptom'] = features[indicators].apply(get_symptom_count, axis=1)\n",
    "feats = df[indicators2]\n",
    "feats['Total_Symptom'] = feats[indicators].apply(get_symptom_count, axis=1)"
   ]
  },
  {
   "cell_type": "code",
   "execution_count": 8,
   "id": "decimal-beginning",
   "metadata": {
    "execution": {
     "iopub.execute_input": "2021-06-21T14:57:31.304326Z",
     "iopub.status.busy": "2021-06-21T14:57:31.303675Z",
     "iopub.status.idle": "2021-06-21T14:57:31.655194Z",
     "shell.execute_reply": "2021-06-21T14:57:31.654640Z",
     "shell.execute_reply.started": "2021-06-19T02:54:23.798285Z"
    },
    "papermill": {
     "duration": 0.381358,
     "end_time": "2021-06-21T14:57:31.655352",
     "exception": false,
     "start_time": "2021-06-21T14:57:31.273994",
     "status": "completed"
    },
    "tags": []
   },
   "outputs": [
    {
     "data": {
      "image/png": "[encoded data removed]",
      "text/plain": [
       "<Figure size 864x576 with 1 Axes>"
      ]
     },
     "metadata": {},
     "output_type": "display_data"
    }
   ],
   "source": [
    "sns.countplot(data=feats, x='Total_Symptom', hue='Severity_None')\n",
    "plt.xlabel(\"Total symptom occurence on someone\")\n",
    "plt.show()"
   ]
  },
  {
   "cell_type": "code",
   "execution_count": 9,
   "id": "moderate-toolbox",
   "metadata": {
    "execution": {
     "iopub.execute_input": "2021-06-21T14:57:31.715880Z",
     "iopub.status.busy": "2021-06-21T14:57:31.714938Z",
     "iopub.status.idle": "2021-06-21T14:57:31.737428Z",
     "shell.execute_reply": "2021-06-21T14:57:31.737907Z",
     "shell.execute_reply.started": "2021-06-19T02:57:04.119046Z"
    },
    "papermill": {
     "duration": 0.055174,
     "end_time": "2021-06-21T14:57:31.738070",
     "exception": false,
     "start_time": "2021-06-21T14:57:31.682896",
     "status": "completed"
    },
    "tags": []
   },
   "outputs": [
    {
     "name": "stderr",
     "output_type": "stream",
     "text": [
      "/opt/conda/lib/python3.7/site-packages/ipykernel_launcher.py:2: SettingWithCopyWarning: \n",
      "A value is trying to be set on a copy of a slice from a DataFrame.\n",
      "Try using .loc[row_indexer,col_indexer] = value instead\n",
      "\n",
      "See the caveats in the documentation: https://pandas.pydata.org/pandas-docs/stable/user_guide/indexing.html#returning-a-view-versus-a-copy\n",
      "  \n"
     ]
    },
    {
     "data": {
      "text/html": [
       "<div>\n",
       "<style scoped>\n",
       "    .dataframe tbody tr th:only-of-type {\n",
       "        vertical-align: middle;\n",
       "    }\n",
       "\n",
       "    .dataframe tbody tr th {\n",
       "        vertical-align: top;\n",
       "    }\n",
       "\n",
       "    .dataframe thead th {\n",
       "        text-align: right;\n",
       "    }\n",
       "</style>\n",
       "<table border=\"1\" class=\"dataframe\">\n",
       "  <thead>\n",
       "    <tr style=\"text-align: right;\">\n",
       "      <th></th>\n",
       "      <th>Fever</th>\n",
       "      <th>Tiredness</th>\n",
       "      <th>Dry-Cough</th>\n",
       "      <th>Difficulty-in-Breathing</th>\n",
       "      <th>Sore-Throat</th>\n",
       "      <th>Pains</th>\n",
       "      <th>Nasal-Congestion</th>\n",
       "      <th>Runny-Nose</th>\n",
       "      <th>Diarrhea</th>\n",
       "      <th>Age_0-9</th>\n",
       "      <th>Age_10-19</th>\n",
       "      <th>Age_20-24</th>\n",
       "      <th>Age_25-59</th>\n",
       "      <th>Age_60+</th>\n",
       "      <th>Gender_Male</th>\n",
       "      <th>Gender_Female</th>\n",
       "      <th>Gender_Transgender</th>\n",
       "      <th>Total_Symptom</th>\n",
       "      <th>Non_Severe</th>\n",
       "    </tr>\n",
       "  </thead>\n",
       "  <tbody>\n",
       "    <tr>\n",
       "      <th>0</th>\n",
       "      <td>1</td>\n",
       "      <td>1</td>\n",
       "      <td>1</td>\n",
       "      <td>1</td>\n",
       "      <td>1</td>\n",
       "      <td>1</td>\n",
       "      <td>1</td>\n",
       "      <td>1</td>\n",
       "      <td>1</td>\n",
       "      <td>1</td>\n",
       "      <td>0</td>\n",
       "      <td>0</td>\n",
       "      <td>0</td>\n",
       "      <td>0</td>\n",
       "      <td>1</td>\n",
       "      <td>0</td>\n",
       "      <td>0</td>\n",
       "      <td>11</td>\n",
       "      <td>0</td>\n",
       "    </tr>\n",
       "    <tr>\n",
       "      <th>1</th>\n",
       "      <td>1</td>\n",
       "      <td>1</td>\n",
       "      <td>1</td>\n",
       "      <td>1</td>\n",
       "      <td>1</td>\n",
       "      <td>1</td>\n",
       "      <td>1</td>\n",
       "      <td>1</td>\n",
       "      <td>1</td>\n",
       "      <td>1</td>\n",
       "      <td>0</td>\n",
       "      <td>0</td>\n",
       "      <td>0</td>\n",
       "      <td>0</td>\n",
       "      <td>1</td>\n",
       "      <td>0</td>\n",
       "      <td>0</td>\n",
       "      <td>11</td>\n",
       "      <td>0</td>\n",
       "    </tr>\n",
       "    <tr>\n",
       "      <th>2</th>\n",
       "      <td>1</td>\n",
       "      <td>1</td>\n",
       "      <td>1</td>\n",
       "      <td>1</td>\n",
       "      <td>1</td>\n",
       "      <td>1</td>\n",
       "      <td>1</td>\n",
       "      <td>1</td>\n",
       "      <td>1</td>\n",
       "      <td>1</td>\n",
       "      <td>0</td>\n",
       "      <td>0</td>\n",
       "      <td>0</td>\n",
       "      <td>0</td>\n",
       "      <td>1</td>\n",
       "      <td>0</td>\n",
       "      <td>0</td>\n",
       "      <td>11</td>\n",
       "      <td>0</td>\n",
       "    </tr>\n",
       "    <tr>\n",
       "      <th>3</th>\n",
       "      <td>1</td>\n",
       "      <td>1</td>\n",
       "      <td>1</td>\n",
       "      <td>1</td>\n",
       "      <td>1</td>\n",
       "      <td>1</td>\n",
       "      <td>1</td>\n",
       "      <td>1</td>\n",
       "      <td>1</td>\n",
       "      <td>1</td>\n",
       "      <td>0</td>\n",
       "      <td>0</td>\n",
       "      <td>0</td>\n",
       "      <td>0</td>\n",
       "      <td>1</td>\n",
       "      <td>0</td>\n",
       "      <td>0</td>\n",
       "      <td>11</td>\n",
       "      <td>0</td>\n",
       "    </tr>\n",
       "    <tr>\n",
       "      <th>4</th>\n",
       "      <td>1</td>\n",
       "      <td>1</td>\n",
       "      <td>1</td>\n",
       "      <td>1</td>\n",
       "      <td>1</td>\n",
       "      <td>1</td>\n",
       "      <td>1</td>\n",
       "      <td>1</td>\n",
       "      <td>1</td>\n",
       "      <td>1</td>\n",
       "      <td>0</td>\n",
       "      <td>0</td>\n",
       "      <td>0</td>\n",
       "      <td>0</td>\n",
       "      <td>1</td>\n",
       "      <td>0</td>\n",
       "      <td>0</td>\n",
       "      <td>11</td>\n",
       "      <td>0</td>\n",
       "    </tr>\n",
       "    <tr>\n",
       "      <th>...</th>\n",
       "      <td>...</td>\n",
       "      <td>...</td>\n",
       "      <td>...</td>\n",
       "      <td>...</td>\n",
       "      <td>...</td>\n",
       "      <td>...</td>\n",
       "      <td>...</td>\n",
       "      <td>...</td>\n",
       "      <td>...</td>\n",
       "      <td>...</td>\n",
       "      <td>...</td>\n",
       "      <td>...</td>\n",
       "      <td>...</td>\n",
       "      <td>...</td>\n",
       "      <td>...</td>\n",
       "      <td>...</td>\n",
       "      <td>...</td>\n",
       "      <td>...</td>\n",
       "      <td>...</td>\n",
       "    </tr>\n",
       "    <tr>\n",
       "      <th>316795</th>\n",
       "      <td>0</td>\n",
       "      <td>0</td>\n",
       "      <td>0</td>\n",
       "      <td>0</td>\n",
       "      <td>0</td>\n",
       "      <td>0</td>\n",
       "      <td>0</td>\n",
       "      <td>0</td>\n",
       "      <td>0</td>\n",
       "      <td>0</td>\n",
       "      <td>0</td>\n",
       "      <td>0</td>\n",
       "      <td>0</td>\n",
       "      <td>1</td>\n",
       "      <td>0</td>\n",
       "      <td>0</td>\n",
       "      <td>1</td>\n",
       "      <td>2</td>\n",
       "      <td>0</td>\n",
       "    </tr>\n",
       "    <tr>\n",
       "      <th>316796</th>\n",
       "      <td>0</td>\n",
       "      <td>0</td>\n",
       "      <td>0</td>\n",
       "      <td>0</td>\n",
       "      <td>0</td>\n",
       "      <td>0</td>\n",
       "      <td>0</td>\n",
       "      <td>0</td>\n",
       "      <td>0</td>\n",
       "      <td>0</td>\n",
       "      <td>0</td>\n",
       "      <td>0</td>\n",
       "      <td>0</td>\n",
       "      <td>1</td>\n",
       "      <td>0</td>\n",
       "      <td>0</td>\n",
       "      <td>1</td>\n",
       "      <td>2</td>\n",
       "      <td>0</td>\n",
       "    </tr>\n",
       "    <tr>\n",
       "      <th>316797</th>\n",
       "      <td>0</td>\n",
       "      <td>0</td>\n",
       "      <td>0</td>\n",
       "      <td>0</td>\n",
       "      <td>0</td>\n",
       "      <td>0</td>\n",
       "      <td>0</td>\n",
       "      <td>0</td>\n",
       "      <td>0</td>\n",
       "      <td>0</td>\n",
       "      <td>0</td>\n",
       "      <td>0</td>\n",
       "      <td>0</td>\n",
       "      <td>1</td>\n",
       "      <td>0</td>\n",
       "      <td>0</td>\n",
       "      <td>1</td>\n",
       "      <td>2</td>\n",
       "      <td>1</td>\n",
       "    </tr>\n",
       "    <tr>\n",
       "      <th>316798</th>\n",
       "      <td>0</td>\n",
       "      <td>0</td>\n",
       "      <td>0</td>\n",
       "      <td>0</td>\n",
       "      <td>0</td>\n",
       "      <td>0</td>\n",
       "      <td>0</td>\n",
       "      <td>0</td>\n",
       "      <td>0</td>\n",
       "      <td>0</td>\n",
       "      <td>0</td>\n",
       "      <td>0</td>\n",
       "      <td>0</td>\n",
       "      <td>1</td>\n",
       "      <td>0</td>\n",
       "      <td>0</td>\n",
       "      <td>1</td>\n",
       "      <td>2</td>\n",
       "      <td>1</td>\n",
       "    </tr>\n",
       "    <tr>\n",
       "      <th>316799</th>\n",
       "      <td>0</td>\n",
       "      <td>0</td>\n",
       "      <td>0</td>\n",
       "      <td>0</td>\n",
       "      <td>0</td>\n",
       "      <td>0</td>\n",
       "      <td>0</td>\n",
       "      <td>0</td>\n",
       "      <td>0</td>\n",
       "      <td>0</td>\n",
       "      <td>0</td>\n",
       "      <td>0</td>\n",
       "      <td>0</td>\n",
       "      <td>1</td>\n",
       "      <td>0</td>\n",
       "      <td>0</td>\n",
       "      <td>1</td>\n",
       "      <td>2</td>\n",
       "      <td>1</td>\n",
       "    </tr>\n",
       "  </tbody>\n",
       "</table>\n",
       "<p>316800 rows × 19 columns</p>\n",
       "</div>"
      ],
      "text/plain": [
       "        Fever  Tiredness  Dry-Cough  Difficulty-in-Breathing  Sore-Throat  \\\n",
       "0           1          1          1                        1            1   \n",
       "1           1          1          1                        1            1   \n",
       "2           1          1          1                        1            1   \n",
       "3           1          1          1                        1            1   \n",
       "4           1          1          1                        1            1   \n",
       "...       ...        ...        ...                      ...          ...   \n",
       "316795      0          0          0                        0            0   \n",
       "316796      0          0          0                        0            0   \n",
       "316797      0          0          0                        0            0   \n",
       "316798      0          0          0                        0            0   \n",
       "316799      0          0          0                        0            0   \n",
       "\n",
       "        Pains  Nasal-Congestion  Runny-Nose  Diarrhea  Age_0-9  Age_10-19  \\\n",
       "0           1                 1           1         1        1          0   \n",
       "1           1                 1           1         1        1          0   \n",
       "2           1                 1           1         1        1          0   \n",
       "3           1                 1           1         1        1          0   \n",
       "4           1                 1           1         1        1          0   \n",
       "...       ...               ...         ...       ...      ...        ...   \n",
       "316795      0                 0           0         0        0          0   \n",
       "316796      0                 0           0         0        0          0   \n",
       "316797      0                 0           0         0        0          0   \n",
       "316798      0                 0           0         0        0          0   \n",
       "316799      0                 0           0         0        0          0   \n",
       "\n",
       "        Age_20-24  Age_25-59  Age_60+  Gender_Male  Gender_Female  \\\n",
       "0               0          0        0            1              0   \n",
       "1               0          0        0            1              0   \n",
       "2               0          0        0            1              0   \n",
       "3               0          0        0            1              0   \n",
       "4               0          0        0            1              0   \n",
       "...           ...        ...      ...          ...            ...   \n",
       "316795          0          0        1            0              0   \n",
       "316796          0          0        1            0              0   \n",
       "316797          0          0        1            0              0   \n",
       "316798          0          0        1            0              0   \n",
       "316799          0          0        1            0              0   \n",
       "\n",
       "        Gender_Transgender  Total_Symptom  Non_Severe  \n",
       "0                        0             11           0  \n",
       "1                        0             11           0  \n",
       "2                        0             11           0  \n",
       "3                        0             11           0  \n",
       "4                        0             11           0  \n",
       "...                    ...            ...         ...  \n",
       "316795                   1              2           0  \n",
       "316796                   1              2           0  \n",
       "316797                   1              2           1  \n",
       "316798                   1              2           1  \n",
       "316799                   1              2           1  \n",
       "\n",
       "[316800 rows x 19 columns]"
      ]
     },
     "execution_count": 9,
     "metadata": {},
     "output_type": "execute_result"
    }
   ],
   "source": [
    "data = features\n",
    "data['Non_Severe'] = targets['Non_Severe'].values\n",
    "data"
   ]
  },
  {
   "cell_type": "code",
   "execution_count": 10,
   "id": "distinguished-retirement",
   "metadata": {
    "execution": {
     "iopub.execute_input": "2021-06-21T14:57:31.803759Z",
     "iopub.status.busy": "2021-06-21T14:57:31.802296Z",
     "iopub.status.idle": "2021-06-21T14:57:34.031904Z",
     "shell.execute_reply": "2021-06-21T14:57:34.031239Z",
     "shell.execute_reply.started": "2021-06-19T02:57:01.807147Z"
    },
    "papermill": {
     "duration": 2.265607,
     "end_time": "2021-06-21T14:57:34.032044",
     "exception": false,
     "start_time": "2021-06-21T14:57:31.766437",
     "status": "completed"
    },
    "tags": []
   },
   "outputs": [
    {
     "data": {
      "image/png": "[encoded data removed]",
      "text/plain": [
       "<Figure size 864x576 with 2 Axes>"
      ]
     },
     "metadata": {},
     "output_type": "display_data"
    }
   ],
   "source": [
    "data_for_corr = data.drop(labels=\"Total_Symptom\", axis=1)\n",
    "# data_for_corr['Condition'] = data_for_corr['Condition'].apply(make_condition_grade)\n",
    "corrmat = data_for_corr.corr()\n",
    "k = 22\n",
    "cols = corrmat.nlargest(k, 'Non_Severe')['Non_Severe'].index\n",
    "cm = np.corrcoef(data_for_corr[cols].values.T)\n",
    "sns.set(font_scale=1.25)\n",
    "hm = sns.heatmap(cm, cbar=True, annot=True, square=True, fmt='.2f', annot_kws={'size': 10}, yticklabels=cols.values, xticklabels=cols.values)\n",
    "plt.show()"
   ]
  },
  {
   "cell_type": "markdown",
   "id": "polished-drama",
   "metadata": {
    "papermill": {
     "duration": 0.033063,
     "end_time": "2021-06-21T14:57:34.097447",
     "exception": false,
     "start_time": "2021-06-21T14:57:34.064384",
     "status": "completed"
    },
    "tags": []
   },
   "source": [
    "# Modelling"
   ]
  },
  {
   "cell_type": "code",
   "execution_count": 11,
   "id": "leading-lloyd",
   "metadata": {
    "execution": {
     "iopub.execute_input": "2021-06-21T14:57:34.166939Z",
     "iopub.status.busy": "2021-06-21T14:57:34.166250Z",
     "iopub.status.idle": "2021-06-21T14:57:34.411237Z",
     "shell.execute_reply": "2021-06-21T14:57:34.411732Z",
     "shell.execute_reply.started": "2021-06-19T02:57:16.428004Z"
    },
    "papermill": {
     "duration": 0.282645,
     "end_time": "2021-06-21T14:57:34.411929",
     "exception": false,
     "start_time": "2021-06-21T14:57:34.129284",
     "status": "completed"
    },
    "tags": []
   },
   "outputs": [],
   "source": [
    "from sklearn.decomposition import PCA\n",
    "from sklearn.ensemble import RandomForestClassifier\n",
    "from sklearn.model_selection import KFold\n",
    "from sklearn.model_selection import cross_val_score\n",
    "from sklearn.metrics import confusion_matrix\n",
    "from sklearn.model_selection import GridSearchCV\n",
    "from sklearn.linear_model import LogisticRegression\n",
    "from sklearn.tree import DecisionTreeClassifier\n",
    "\n",
    "\n",
    "k_fold = KFold(n_splits=10, shuffle=True, random_state=0)"
   ]
  },
  {
   "cell_type": "code",
   "execution_count": 12,
   "id": "residential-strap",
   "metadata": {
    "execution": {
     "iopub.execute_input": "2021-06-21T14:57:34.494746Z",
     "iopub.status.busy": "2021-06-21T14:57:34.491902Z",
     "iopub.status.idle": "2021-06-21T14:57:35.975587Z",
     "shell.execute_reply": "2021-06-21T14:57:35.974847Z",
     "shell.execute_reply.started": "2021-06-19T02:57:22.641297Z"
    },
    "papermill": {
     "duration": 1.530749,
     "end_time": "2021-06-21T14:57:35.975733",
     "exception": false,
     "start_time": "2021-06-21T14:57:34.444984",
     "status": "completed"
    },
    "tags": []
   },
   "outputs": [],
   "source": [
    "x = data.drop(['Non_Severe', 'Total_Symptom'], axis=1)\n",
    "x = PCA(n_components = 3).fit_transform(x)\n",
    "y = data['Non_Severe']\n",
    "x_train, x_test, y_train, y_test = train_test_split(x, y, random_state=42, test_size=.3)"
   ]
  },
  {
   "cell_type": "code",
   "execution_count": 13,
   "id": "little-marks",
   "metadata": {
    "execution": {
     "iopub.execute_input": "2021-06-21T14:57:36.048544Z",
     "iopub.status.busy": "2021-06-21T14:57:36.047587Z",
     "iopub.status.idle": "2021-06-21T14:58:02.320215Z",
     "shell.execute_reply": "2021-06-21T14:58:02.320683Z",
     "shell.execute_reply.started": "2021-06-19T02:57:24.201816Z"
    },
    "papermill": {
     "duration": 26.308107,
     "end_time": "2021-06-21T14:58:02.320862",
     "exception": false,
     "start_time": "2021-06-21T14:57:36.012755",
     "status": "completed"
    },
    "tags": []
   },
   "outputs": [
    {
     "data": {
      "text/plain": [
       "0.7509574915824916"
      ]
     },
     "execution_count": 13,
     "metadata": {},
     "output_type": "execute_result"
    }
   ],
   "source": [
    "rfc = RandomForestClassifier()\n",
    "rfc.fit(x_train, y_train)\n",
    "rfc.score(x_test, y_test)"
   ]
  },
  {
   "cell_type": "code",
   "execution_count": 14,
   "id": "authorized-rough",
   "metadata": {
    "execution": {
     "iopub.execute_input": "2021-06-21T14:58:02.387948Z",
     "iopub.status.busy": "2021-06-21T14:58:02.386983Z",
     "iopub.status.idle": "2021-06-21T14:58:02.659940Z",
     "shell.execute_reply": "2021-06-21T14:58:02.660816Z",
     "shell.execute_reply.started": "2021-06-19T02:41:38.62597Z"
    },
    "papermill": {
     "duration": 0.308691,
     "end_time": "2021-06-21T14:58:02.661101",
     "exception": false,
     "start_time": "2021-06-21T14:58:02.352410",
     "status": "completed"
    },
    "tags": []
   },
   "outputs": [
    {
     "data": {
      "text/plain": [
       "0.7509574915824916"
      ]
     },
     "execution_count": 14,
     "metadata": {},
     "output_type": "execute_result"
    }
   ],
   "source": [
    "lr = LogisticRegression()\n",
    "lr.fit(x_train, y_train)\n",
    "lr.score(x_test, y_test)"
   ]
  },
  {
   "cell_type": "code",
   "execution_count": 15,
   "id": "negative-mitchell",
   "metadata": {
    "execution": {
     "iopub.execute_input": "2021-06-21T14:58:02.778452Z",
     "iopub.status.busy": "2021-06-21T14:58:02.777761Z",
     "iopub.status.idle": "2021-06-21T14:58:03.386005Z",
     "shell.execute_reply": "2021-06-21T14:58:03.386474Z",
     "shell.execute_reply.started": "2021-06-19T02:41:38.878686Z"
    },
    "papermill": {
     "duration": 0.667173,
     "end_time": "2021-06-21T14:58:03.386656",
     "exception": false,
     "start_time": "2021-06-21T14:58:02.719483",
     "status": "completed"
    },
    "tags": []
   },
   "outputs": [
    {
     "data": {
      "text/plain": [
       "0.7509574915824916"
      ]
     },
     "execution_count": 15,
     "metadata": {},
     "output_type": "execute_result"
    }
   ],
   "source": [
    "DTC = DecisionTreeClassifier()\n",
    "DTC.fit(x_train, y_train)\n",
    "DTC.score(x_test, y_test)"
   ]
  },
  {
   "cell_type": "code",
   "execution_count": 16,
   "id": "constitutional-champion",
   "metadata": {
    "execution": {
     "iopub.execute_input": "2021-06-21T14:58:03.455710Z",
     "iopub.status.busy": "2021-06-21T14:58:03.454999Z",
     "iopub.status.idle": "2021-06-21T15:07:41.782740Z",
     "shell.execute_reply": "2021-06-21T15:07:41.783227Z",
     "shell.execute_reply.started": "2021-06-19T03:43:11.985154Z"
    },
    "papermill": {
     "duration": 578.363797,
     "end_time": "2021-06-21T15:07:41.783430",
     "exception": false,
     "start_time": "2021-06-21T14:58:03.419633",
     "status": "completed"
    },
    "tags": []
   },
   "outputs": [
    {
     "name": "stdout",
     "output_type": "stream",
     "text": [
      "RandomForestClassifier(max_depth=15, n_estimators=27)\n"
     ]
    }
   ],
   "source": [
    "params = {\n",
    "    \"max_depth\":[15,20,25], \n",
    "    \"n_estimators\":[27,30,33],\n",
    "    \"criterion\":[\"gini\", \"entropy\"],\n",
    "}\n",
    "\n",
    "rfc = RandomForestClassifier()\n",
    "\n",
    "rf_reg = GridSearchCV(rfc, params, cv = 10, n_jobs =10)\n",
    "rf_reg.fit(x_train, y_train)\n",
    "print(rf_reg.best_estimator_)"
   ]
  },
  {
   "cell_type": "code",
   "execution_count": 17,
   "id": "living-struggle",
   "metadata": {
    "execution": {
     "iopub.execute_input": "2021-06-21T15:07:41.855609Z",
     "iopub.status.busy": "2021-06-21T15:07:41.854922Z",
     "iopub.status.idle": "2021-06-21T15:09:21.642944Z",
     "shell.execute_reply": "2021-06-21T15:09:21.643469Z",
     "shell.execute_reply.started": "2021-06-19T03:55:32.021194Z"
    },
    "papermill": {
     "duration": 99.827437,
     "end_time": "2021-06-21T15:09:21.643643",
     "exception": false,
     "start_time": "2021-06-21T15:07:41.816206",
     "status": "completed"
    },
    "tags": []
   },
   "outputs": [
    {
     "name": "stdout",
     "output_type": "stream",
     "text": [
      "0.7507154882154883\n"
     ]
    }
   ],
   "source": [
    "rfc_tune = RandomForestClassifier(max_depth=15, n_estimators=27)\n",
    "rfc_tune.fit(x_train, y_train)\n",
    "score = cross_val_score(rfc,x_test,y_test,cv = k_fold,n_jobs=1,scoring=\"accuracy\")\n",
    "print(score.mean())"
   ]
  },
  {
   "cell_type": "code",
   "execution_count": 18,
   "id": "artificial-valentine",
   "metadata": {
    "execution": {
     "iopub.execute_input": "2021-06-21T15:09:21.714207Z",
     "iopub.status.busy": "2021-06-21T15:09:21.713538Z",
     "iopub.status.idle": "2021-06-21T15:10:32.828484Z",
     "shell.execute_reply": "2021-06-21T15:10:32.827968Z",
     "shell.execute_reply.started": "2021-06-19T03:57:13.62442Z"
    },
    "papermill": {
     "duration": 71.151253,
     "end_time": "2021-06-21T15:10:32.828629",
     "exception": false,
     "start_time": "2021-06-21T15:09:21.677376",
     "status": "completed"
    },
    "tags": []
   },
   "outputs": [
    {
     "name": "stderr",
     "output_type": "stream",
     "text": [
      "/opt/conda/lib/python3.7/site-packages/sklearn/model_selection/_search.py:921: UserWarning: One or more of the test scores are non-finite: [       nan        nan 0.74958965        nan 0.74958965 0.74958965\n",
      " 0.74958965 0.74958965 0.74958965 0.74958965        nan        nan\n",
      "        nan        nan        nan 0.74958965 0.74958965        nan\n",
      " 0.74958965 0.74958965]\n",
      "  category=UserWarning\n"
     ]
    },
    {
     "name": "stdout",
     "output_type": "stream",
     "text": [
      "LogisticRegression(penalty='l1', solver='liblinear')\n"
     ]
    }
   ],
   "source": [
    "params={\n",
    "    \"penalty\":['l1', 'l2', 'elasticnet', 'none'],\n",
    "    \"solver\":['newton-cg', 'lbfgs', 'liblinear', 'sag', 'saga']\n",
    "}\n",
    "lr = LogisticRegression()\n",
    "lr_reg = GridSearchCV(lr, params, cv=10, n_jobs=10)\n",
    "lr_reg.fit(x_train, y_train)\n",
    "print(lr_reg.best_estimator_)"
   ]
  },
  {
   "cell_type": "code",
   "execution_count": 19,
   "id": "antique-divide",
   "metadata": {
    "execution": {
     "iopub.execute_input": "2021-06-21T15:10:32.902401Z",
     "iopub.status.busy": "2021-06-21T15:10:32.901481Z",
     "iopub.status.idle": "2021-06-21T15:10:34.153462Z",
     "shell.execute_reply": "2021-06-21T15:10:34.154389Z",
     "shell.execute_reply.started": "2021-06-19T03:55:19.994461Z"
    },
    "papermill": {
     "duration": 1.292133,
     "end_time": "2021-06-21T15:10:34.154671",
     "exception": false,
     "start_time": "2021-06-21T15:10:32.862538",
     "status": "completed"
    },
    "tags": []
   },
   "outputs": [
    {
     "name": "stdout",
     "output_type": "stream",
     "text": [
      "0.7509574915824916\n"
     ]
    }
   ],
   "source": [
    "lr_tune = LogisticRegression(penalty='l1', solver='liblinear')\n",
    "lr_tune.fit(x_train, y_train)\n",
    "score = cross_val_score(lr_tune, x_test, y_test, cv=k_fold, n_jobs=1, scoring=\"accuracy\")\n",
    "print(score.mean())"
   ]
  },
  {
   "cell_type": "code",
   "execution_count": 20,
   "id": "amino-fellowship",
   "metadata": {
    "execution": {
     "iopub.execute_input": "2021-06-21T15:10:34.283387Z",
     "iopub.status.busy": "2021-06-21T15:10:34.282463Z",
     "iopub.status.idle": "2021-06-21T15:10:50.132443Z",
     "shell.execute_reply": "2021-06-21T15:10:50.131810Z",
     "shell.execute_reply.started": "2021-06-19T03:58:27.055695Z"
    },
    "papermill": {
     "duration": 15.913491,
     "end_time": "2021-06-21T15:10:50.132581",
     "exception": false,
     "start_time": "2021-06-21T15:10:34.219090",
     "status": "completed"
    },
    "tags": []
   },
   "outputs": [
    {
     "name": "stdout",
     "output_type": "stream",
     "text": [
      "DecisionTreeClassifier(max_depth=15)\n"
     ]
    }
   ],
   "source": [
    "params = {\n",
    "    \"criterion\":[\"gini\", \"entropy\"],\n",
    "    \"max_depth\":[15,20,25], \n",
    "}\n",
    "dtc = DecisionTreeClassifier()\n",
    "dtc_reg = GridSearchCV(dtc, params, cv=10, n_jobs=10)\n",
    "dtc_reg.fit(x_train, y_train)\n",
    "print(dtc_reg.best_estimator_)"
   ]
  },
  {
   "cell_type": "code",
   "execution_count": 21,
   "id": "handy-court",
   "metadata": {
    "execution": {
     "iopub.execute_input": "2021-06-21T15:10:50.207248Z",
     "iopub.status.busy": "2021-06-21T15:10:50.206621Z",
     "iopub.status.idle": "2021-06-21T15:10:52.269587Z",
     "shell.execute_reply": "2021-06-21T15:10:52.268938Z",
     "shell.execute_reply.started": "2021-06-19T03:59:02.611137Z"
    },
    "papermill": {
     "duration": 2.102515,
     "end_time": "2021-06-21T15:10:52.269725",
     "exception": false,
     "start_time": "2021-06-21T15:10:50.167210",
     "status": "completed"
    },
    "tags": []
   },
   "outputs": [
    {
     "name": "stdout",
     "output_type": "stream",
     "text": [
      "0.7508838383838384\n"
     ]
    }
   ],
   "source": [
    "dtc_tune = DecisionTreeClassifier(max_depth=15)\n",
    "dtc_tune.fit(x_train, y_train)\n",
    "score = cross_val_score(dtc_tune, x_test, y_test, cv=k_fold, n_jobs=1, scoring=\"accuracy\")\n",
    "print(score.mean())"
   ]
  },
  {
   "cell_type": "code",
   "execution_count": null,
   "id": "appreciated-suggestion",
   "metadata": {
    "papermill": {
     "duration": 0.034173,
     "end_time": "2021-06-21T15:10:52.341220",
     "exception": false,
     "start_time": "2021-06-21T15:10:52.307047",
     "status": "completed"
    },
    "tags": []
   },
   "outputs": [],
   "source": []
  }
 ],
 "metadata": {
  "kernelspec": {
   "display_name": "Python 3",
   "language": "python",
   "name": "python3"
  },
  "language_info": {
   "codemirror_mode": {
    "name": "ipython",
    "version": 3
   },
   "file_extension": ".py",
   "mimetype": "text/x-python",
   "name": "python",
   "nbconvert_exporter": "python",
   "pygments_lexer": "ipython3",
   "version": "3.7.10"
  },
  "papermill": {
   "default_parameters": {},
   "duration": 826.167911,
   "end_time": "2021-06-21T15:10:54.245412",
   "environment_variables": {},
   "exception": null,
   "input_path": "__notebook__.ipynb",
   "output_path": "__notebook__.ipynb",
   "parameters": {},
   "start_time": "2021-06-21T14:57:08.077501",
   "version": "2.3.3"
  }
 },
 "nbformat": 4,
 "nbformat_minor": 5
}
